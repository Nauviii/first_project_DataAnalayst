{
  "cells": [
    {
      "cell_type": "markdown",
      "metadata": {
        "id": "view-in-github",
        "colab_type": "text"
      },
      "source": [
        "<a href=\"https://colab.research.google.com/github/Nauviii/first_project_DataAnalayst/blob/main/Notebook.ipynb\" target=\"_parent\"><img src=\"https://colab.research.google.com/assets/colab-badge.svg\" alt=\"Open In Colab\"/></a>"
      ]
    },
    {
      "cell_type": "markdown",
      "metadata": {
        "id": "H9wADwK78DCz"
      },
      "source": [
        "# Proyek Analisis Data: Bike Sharing Dataset\n",
        "- **Nama:** Fikri Kurnia\n",
        "- **Email:** ds.fikri.kurnia@gmail.com]\n",
        "- **ID Dicoding:** https://www.dicoding.com/users/fikrikurnia/academies"
      ]
    },
    {
      "cell_type": "markdown",
      "metadata": {
        "id": "eE0raob58DC0"
      },
      "source": [
        "## Menentukan Pertanyaan Bisnis"
      ]
    },
    {
      "cell_type": "markdown",
      "metadata": {
        "id": "GmQeQ5YF8DC0"
      },
      "source": [
        "- Pertanyaan 1 : Bagaimana pengaruh musim (musim panas, dingin, gugur, semi) terhadap jumlah sepeda yang dipinjam?\n",
        "- Pertanyaan 2 : Apakah jumlah sepeda yang dipinjam lebih tinggi pada hari kerja dibandingkan akhir pekan?"
      ]
    },
    {
      "cell_type": "markdown",
      "metadata": {
        "id": "H-z4QGlO8DC1"
      },
      "source": [
        "## Import Semua Packages/Library yang Digunakan"
      ]
    },
    {
      "cell_type": "code",
      "execution_count": 1,
      "metadata": {
        "id": "FVYwaObI8DC1"
      },
      "outputs": [],
      "source": [
        "import numpy as np\n",
        "import pandas as pd\n",
        "import matplotlib.pyplot as plt\n",
        "import seaborn as sns"
      ]
    },
    {
      "cell_type": "markdown",
      "metadata": {
        "id": "h_Sh51Xy8DC1"
      },
      "source": [
        "## Data Wrangling"
      ]
    },
    {
      "cell_type": "markdown",
      "source": [],
      "metadata": {
        "id": "mQ_Bk_t-eU8X"
      }
    },
    {
      "cell_type": "markdown",
      "metadata": {
        "id": "sXU2GBYu8DC1"
      },
      "source": [
        "### Gathering Data"
      ]
    },
    {
      "cell_type": "code",
      "execution_count": 2,
      "metadata": {
        "id": "zjCBk1BI8DC1",
        "colab": {
          "base_uri": "https://localhost:8080/",
          "height": 321
        },
        "outputId": "a973ba57-df62-4fc0-b09f-910787264d2b"
      },
      "outputs": [
        {
          "output_type": "error",
          "ename": "FileNotFoundError",
          "evalue": "[Errno 2] No such file or directory: 'sample_data/day.csv'",
          "traceback": [
            "\u001b[0;31m---------------------------------------------------------------------------\u001b[0m",
            "\u001b[0;31mFileNotFoundError\u001b[0m                         Traceback (most recent call last)",
            "\u001b[0;32m<ipython-input-2-f992d4e6c1d2>\u001b[0m in \u001b[0;36m<cell line: 1>\u001b[0;34m()\u001b[0m\n\u001b[0;32m----> 1\u001b[0;31m \u001b[0mbike_day_df\u001b[0m \u001b[0;34m=\u001b[0m \u001b[0mpd\u001b[0m\u001b[0;34m.\u001b[0m\u001b[0mread_csv\u001b[0m\u001b[0;34m(\u001b[0m\u001b[0;34m\"sample_data/day.csv\"\u001b[0m\u001b[0;34m)\u001b[0m\u001b[0;34m\u001b[0m\u001b[0;34m\u001b[0m\u001b[0m\n\u001b[0m\u001b[1;32m      2\u001b[0m \u001b[0mdisplay\u001b[0m\u001b[0;34m(\u001b[0m\u001b[0mbike_day_df\u001b[0m\u001b[0;34m.\u001b[0m\u001b[0mhead\u001b[0m\u001b[0;34m(\u001b[0m\u001b[0;34m)\u001b[0m\u001b[0;34m)\u001b[0m\u001b[0;34m\u001b[0m\u001b[0;34m\u001b[0m\u001b[0m\n",
            "\u001b[0;32m/usr/local/lib/python3.10/dist-packages/pandas/io/parsers/readers.py\u001b[0m in \u001b[0;36mread_csv\u001b[0;34m(filepath_or_buffer, sep, delimiter, header, names, index_col, usecols, dtype, engine, converters, true_values, false_values, skipinitialspace, skiprows, skipfooter, nrows, na_values, keep_default_na, na_filter, verbose, skip_blank_lines, parse_dates, infer_datetime_format, keep_date_col, date_parser, date_format, dayfirst, cache_dates, iterator, chunksize, compression, thousands, decimal, lineterminator, quotechar, quoting, doublequote, escapechar, comment, encoding, encoding_errors, dialect, on_bad_lines, delim_whitespace, low_memory, memory_map, float_precision, storage_options, dtype_backend)\u001b[0m\n\u001b[1;32m   1024\u001b[0m     \u001b[0mkwds\u001b[0m\u001b[0;34m.\u001b[0m\u001b[0mupdate\u001b[0m\u001b[0;34m(\u001b[0m\u001b[0mkwds_defaults\u001b[0m\u001b[0;34m)\u001b[0m\u001b[0;34m\u001b[0m\u001b[0;34m\u001b[0m\u001b[0m\n\u001b[1;32m   1025\u001b[0m \u001b[0;34m\u001b[0m\u001b[0m\n\u001b[0;32m-> 1026\u001b[0;31m     \u001b[0;32mreturn\u001b[0m \u001b[0m_read\u001b[0m\u001b[0;34m(\u001b[0m\u001b[0mfilepath_or_buffer\u001b[0m\u001b[0;34m,\u001b[0m \u001b[0mkwds\u001b[0m\u001b[0;34m)\u001b[0m\u001b[0;34m\u001b[0m\u001b[0;34m\u001b[0m\u001b[0m\n\u001b[0m\u001b[1;32m   1027\u001b[0m \u001b[0;34m\u001b[0m\u001b[0m\n\u001b[1;32m   1028\u001b[0m \u001b[0;34m\u001b[0m\u001b[0m\n",
            "\u001b[0;32m/usr/local/lib/python3.10/dist-packages/pandas/io/parsers/readers.py\u001b[0m in \u001b[0;36m_read\u001b[0;34m(filepath_or_buffer, kwds)\u001b[0m\n\u001b[1;32m    618\u001b[0m \u001b[0;34m\u001b[0m\u001b[0m\n\u001b[1;32m    619\u001b[0m     \u001b[0;31m# Create the parser.\u001b[0m\u001b[0;34m\u001b[0m\u001b[0;34m\u001b[0m\u001b[0m\n\u001b[0;32m--> 620\u001b[0;31m     \u001b[0mparser\u001b[0m \u001b[0;34m=\u001b[0m \u001b[0mTextFileReader\u001b[0m\u001b[0;34m(\u001b[0m\u001b[0mfilepath_or_buffer\u001b[0m\u001b[0;34m,\u001b[0m \u001b[0;34m**\u001b[0m\u001b[0mkwds\u001b[0m\u001b[0;34m)\u001b[0m\u001b[0;34m\u001b[0m\u001b[0;34m\u001b[0m\u001b[0m\n\u001b[0m\u001b[1;32m    621\u001b[0m \u001b[0;34m\u001b[0m\u001b[0m\n\u001b[1;32m    622\u001b[0m     \u001b[0;32mif\u001b[0m \u001b[0mchunksize\u001b[0m \u001b[0;32mor\u001b[0m \u001b[0miterator\u001b[0m\u001b[0;34m:\u001b[0m\u001b[0;34m\u001b[0m\u001b[0;34m\u001b[0m\u001b[0m\n",
            "\u001b[0;32m/usr/local/lib/python3.10/dist-packages/pandas/io/parsers/readers.py\u001b[0m in \u001b[0;36m__init__\u001b[0;34m(self, f, engine, **kwds)\u001b[0m\n\u001b[1;32m   1618\u001b[0m \u001b[0;34m\u001b[0m\u001b[0m\n\u001b[1;32m   1619\u001b[0m         \u001b[0mself\u001b[0m\u001b[0;34m.\u001b[0m\u001b[0mhandles\u001b[0m\u001b[0;34m:\u001b[0m \u001b[0mIOHandles\u001b[0m \u001b[0;34m|\u001b[0m \u001b[0;32mNone\u001b[0m \u001b[0;34m=\u001b[0m \u001b[0;32mNone\u001b[0m\u001b[0;34m\u001b[0m\u001b[0;34m\u001b[0m\u001b[0m\n\u001b[0;32m-> 1620\u001b[0;31m         \u001b[0mself\u001b[0m\u001b[0;34m.\u001b[0m\u001b[0m_engine\u001b[0m \u001b[0;34m=\u001b[0m \u001b[0mself\u001b[0m\u001b[0;34m.\u001b[0m\u001b[0m_make_engine\u001b[0m\u001b[0;34m(\u001b[0m\u001b[0mf\u001b[0m\u001b[0;34m,\u001b[0m \u001b[0mself\u001b[0m\u001b[0;34m.\u001b[0m\u001b[0mengine\u001b[0m\u001b[0;34m)\u001b[0m\u001b[0;34m\u001b[0m\u001b[0;34m\u001b[0m\u001b[0m\n\u001b[0m\u001b[1;32m   1621\u001b[0m \u001b[0;34m\u001b[0m\u001b[0m\n\u001b[1;32m   1622\u001b[0m     \u001b[0;32mdef\u001b[0m \u001b[0mclose\u001b[0m\u001b[0;34m(\u001b[0m\u001b[0mself\u001b[0m\u001b[0;34m)\u001b[0m \u001b[0;34m->\u001b[0m \u001b[0;32mNone\u001b[0m\u001b[0;34m:\u001b[0m\u001b[0;34m\u001b[0m\u001b[0;34m\u001b[0m\u001b[0m\n",
            "\u001b[0;32m/usr/local/lib/python3.10/dist-packages/pandas/io/parsers/readers.py\u001b[0m in \u001b[0;36m_make_engine\u001b[0;34m(self, f, engine)\u001b[0m\n\u001b[1;32m   1878\u001b[0m                 \u001b[0;32mif\u001b[0m \u001b[0;34m\"b\"\u001b[0m \u001b[0;32mnot\u001b[0m \u001b[0;32min\u001b[0m \u001b[0mmode\u001b[0m\u001b[0;34m:\u001b[0m\u001b[0;34m\u001b[0m\u001b[0;34m\u001b[0m\u001b[0m\n\u001b[1;32m   1879\u001b[0m                     \u001b[0mmode\u001b[0m \u001b[0;34m+=\u001b[0m \u001b[0;34m\"b\"\u001b[0m\u001b[0;34m\u001b[0m\u001b[0;34m\u001b[0m\u001b[0m\n\u001b[0;32m-> 1880\u001b[0;31m             self.handles = get_handle(\n\u001b[0m\u001b[1;32m   1881\u001b[0m                 \u001b[0mf\u001b[0m\u001b[0;34m,\u001b[0m\u001b[0;34m\u001b[0m\u001b[0;34m\u001b[0m\u001b[0m\n\u001b[1;32m   1882\u001b[0m                 \u001b[0mmode\u001b[0m\u001b[0;34m,\u001b[0m\u001b[0;34m\u001b[0m\u001b[0;34m\u001b[0m\u001b[0m\n",
            "\u001b[0;32m/usr/local/lib/python3.10/dist-packages/pandas/io/common.py\u001b[0m in \u001b[0;36mget_handle\u001b[0;34m(path_or_buf, mode, encoding, compression, memory_map, is_text, errors, storage_options)\u001b[0m\n\u001b[1;32m    871\u001b[0m         \u001b[0;32mif\u001b[0m \u001b[0mioargs\u001b[0m\u001b[0;34m.\u001b[0m\u001b[0mencoding\u001b[0m \u001b[0;32mand\u001b[0m \u001b[0;34m\"b\"\u001b[0m \u001b[0;32mnot\u001b[0m \u001b[0;32min\u001b[0m \u001b[0mioargs\u001b[0m\u001b[0;34m.\u001b[0m\u001b[0mmode\u001b[0m\u001b[0;34m:\u001b[0m\u001b[0;34m\u001b[0m\u001b[0;34m\u001b[0m\u001b[0m\n\u001b[1;32m    872\u001b[0m             \u001b[0;31m# Encoding\u001b[0m\u001b[0;34m\u001b[0m\u001b[0;34m\u001b[0m\u001b[0m\n\u001b[0;32m--> 873\u001b[0;31m             handle = open(\n\u001b[0m\u001b[1;32m    874\u001b[0m                 \u001b[0mhandle\u001b[0m\u001b[0;34m,\u001b[0m\u001b[0;34m\u001b[0m\u001b[0;34m\u001b[0m\u001b[0m\n\u001b[1;32m    875\u001b[0m                 \u001b[0mioargs\u001b[0m\u001b[0;34m.\u001b[0m\u001b[0mmode\u001b[0m\u001b[0;34m,\u001b[0m\u001b[0;34m\u001b[0m\u001b[0;34m\u001b[0m\u001b[0m\n",
            "\u001b[0;31mFileNotFoundError\u001b[0m: [Errno 2] No such file or directory: 'sample_data/day.csv'"
          ]
        }
      ],
      "source": [
        "bike_day_df = pd.read_csv(\"sample_data/day.csv\")\n",
        "display(bike_day_df.head())"
      ]
    },
    {
      "cell_type": "code",
      "source": [
        "bike_hour_df = pd.read_csv(\"sample_data/hour.csv\")\n",
        "display(bike_hour_df.head())"
      ],
      "metadata": {
        "id": "Z3WkpnoLkf7Q"
      },
      "execution_count": null,
      "outputs": []
    },
    {
      "cell_type": "markdown",
      "source": [
        "**Insight:**\n",
        "- Terdapat fitur dan variabel yang sama pada kedua dataset tersebut (day.csv & hour.csv)"
      ],
      "metadata": {
        "id": "MMi6xGaDkbCi"
      }
    },
    {
      "cell_type": "markdown",
      "metadata": {
        "id": "FHSiqaZp8DC1"
      },
      "source": [
        "### Assessing Data"
      ]
    },
    {
      "cell_type": "markdown",
      "source": [
        "### **Menilai data day.csv**"
      ],
      "metadata": {
        "id": "pinCr_Cgmeit"
      }
    },
    {
      "cell_type": "markdown",
      "source": [
        "**1. Memahami stuktur data**"
      ],
      "metadata": {
        "id": "Ixugxp0FoUS-"
      }
    },
    {
      "cell_type": "code",
      "source": [
        "bike_day_df.info() # Informasi kolom, tipe data, dan missing values"
      ],
      "metadata": {
        "id": "ax-3tEjc9Cj1"
      },
      "execution_count": null,
      "outputs": []
    },
    {
      "cell_type": "markdown",
      "source": [
        "Terdapat columns yang memiliki tipe data yang kurang tepat, yaitu columns :\n",
        "\n",
        "* dteday (object yang seharusnya bertipe datetime)\n",
        "* season, yr, mnth, weekday, workingday, dan holiday (int64 yang seharusnya bertipe str)"
      ],
      "metadata": {
        "id": "FGfU3vLzm-7_"
      }
    },
    {
      "cell_type": "markdown",
      "source": [],
      "metadata": {
        "id": "-XnsqWyKoxT_"
      }
    },
    {
      "cell_type": "markdown",
      "source": [
        "**2. Memeriksa Missing Value**"
      ],
      "metadata": {
        "id": "p_4dgPwpo6dE"
      }
    },
    {
      "cell_type": "code",
      "source": [
        "bike_day_df.isna().sum()"
      ],
      "metadata": {
        "id": "NXIOc9yxm4nH"
      },
      "execution_count": null,
      "outputs": []
    },
    {
      "cell_type": "markdown",
      "source": [],
      "metadata": {
        "id": "FkA6oSF0pV1o"
      }
    },
    {
      "cell_type": "markdown",
      "source": [
        "\" Tidak terdapat data yang kosong(Missing Value) pada dataset day.csv\""
      ],
      "metadata": {
        "id": "0jV9cgdVpb-1"
      }
    },
    {
      "cell_type": "markdown",
      "source": [
        "**3. Memeriksa Duplikat**"
      ],
      "metadata": {
        "id": "RQmN5haDptfa"
      }
    },
    {
      "cell_type": "code",
      "source": [
        "bike_day_df.duplicated().sum()"
      ],
      "metadata": {
        "id": "J30b6tThpx-t"
      },
      "execution_count": null,
      "outputs": []
    },
    {
      "cell_type": "markdown",
      "source": [
        "\" Tidak terdapat duplikat data pada dataset day.csv\""
      ],
      "metadata": {
        "id": "x2yYqy-Op5Tu"
      }
    },
    {
      "cell_type": "markdown",
      "source": [
        "**4. Memeriksa Parameter Statistik**"
      ],
      "metadata": {
        "id": "gMYydh0YqARV"
      }
    },
    {
      "cell_type": "code",
      "source": [
        "bike_day_df.describe()"
      ],
      "metadata": {
        "id": "2tEHKPnAqVdm"
      },
      "execution_count": null,
      "outputs": []
    },
    {
      "cell_type": "markdown",
      "source": [
        "- Distribusi Normal ,dapat dilihat bahwa mean dan medianya tidak begitu berbeda jauh.\n",
        "\n",
        "- Tidak terdapat Outlier\n",
        "\n",
        "- Tidak ada columns yang memiliki jumlah baris yang berbeda"
      ],
      "metadata": {
        "id": "9Fnja3tOrPWE"
      }
    },
    {
      "cell_type": "markdown",
      "source": [
        "### **Menilai data hour.csv**"
      ],
      "metadata": {
        "id": "f_Qsm6BTN2uP"
      }
    },
    {
      "cell_type": "markdown",
      "source": [
        "**1. Memahami Struktur Data**"
      ],
      "metadata": {
        "id": "LuZBDHhoOAKd"
      }
    },
    {
      "cell_type": "code",
      "source": [
        "bike_hour_df.info() # Informasi kolom dan tipe data"
      ],
      "metadata": {
        "id": "Cpb1RTZCOHw9"
      },
      "execution_count": null,
      "outputs": []
    },
    {
      "cell_type": "markdown",
      "source": [
        "Terdapat columns yang memiliki tipe data yang kurang tepat, yaitu columns :\n",
        "\n",
        "* dteday (object yang seharusnya bertipe datetime)\n",
        "* season, yr, mnth, weekday, workingday, dan holiday (int64 yang seharusnya bertipe str)"
      ],
      "metadata": {
        "id": "5eiuKU9aPlMo"
      }
    },
    {
      "cell_type": "markdown",
      "source": [
        "**2. Memeriksa Missing Value**"
      ],
      "metadata": {
        "id": "s6seAG8jUki7"
      }
    },
    {
      "cell_type": "code",
      "source": [
        "bike_hour_df.isna().sum()"
      ],
      "metadata": {
        "id": "DW0gA5elUldC"
      },
      "execution_count": null,
      "outputs": []
    },
    {
      "cell_type": "markdown",
      "source": [
        "\" Tidak terdapat data yang kosong(Missing Value) pada dataset day.csv\""
      ],
      "metadata": {
        "id": "KTY57oMPU1-N"
      }
    },
    {
      "cell_type": "markdown",
      "source": [
        "**3. Memeriksa Duplikat**"
      ],
      "metadata": {
        "id": "WV7JQy1PU7Ci"
      }
    },
    {
      "cell_type": "code",
      "source": [
        "bike_hour_df.duplicated().sum()"
      ],
      "metadata": {
        "id": "F7jdmlSOU-jt"
      },
      "execution_count": null,
      "outputs": []
    },
    {
      "cell_type": "markdown",
      "source": [],
      "metadata": {
        "id": "WkeQ14-aU3Ed"
      }
    },
    {
      "cell_type": "markdown",
      "source": [
        "\" Tidak terdapat duplikat data pada dataset day.csv\""
      ],
      "metadata": {
        "id": "sBaHrq5fVL2U"
      }
    },
    {
      "cell_type": "markdown",
      "source": [
        "**4. Memeriksa Parameter Statistik**"
      ],
      "metadata": {
        "id": "_mvy4f6hVRmC"
      }
    },
    {
      "cell_type": "code",
      "source": [
        "bike_hour_df.describe()"
      ],
      "metadata": {
        "id": "AV8rhFNUVTAU"
      },
      "execution_count": null,
      "outputs": []
    },
    {
      "cell_type": "markdown",
      "source": [
        "- Distribusi Normal ,dapat dilihat bahwa mean dan medianya tidak begitu berbeda jauh.\n",
        "\n",
        "- Tidak terdapat Outlier\n",
        "\n",
        "- Tidak ada columns yang memiliki jumlah baris yang berbeda"
      ],
      "metadata": {
        "id": "l98C-nJWVgad"
      }
    },
    {
      "cell_type": "markdown",
      "source": [
        "**Insight:**\n",
        "- Kedua dataset tersebut memiliki Penilaian yang sama ,mulai dari Struktur Data,missing value,duplicated, sampai parameter statistik."
      ],
      "metadata": {
        "id": "7dtxhAPrkhPL"
      }
    },
    {
      "cell_type": "markdown",
      "metadata": {
        "id": "EhN5R4hr8DC1"
      },
      "source": [
        "### Cleaning Data"
      ]
    },
    {
      "cell_type": "markdown",
      "source": [
        " Membersihkan data day.csv dan hour.csv . Berikut tahapan yang akan dilakukan pada cleaning Data :\n",
        "- Menagani missing values(✅)\n",
        "- Menagani data duplikat(✅)\n",
        "- Memeriksa dan menstandarakan format data(❎)"
      ],
      "metadata": {
        "id": "JtBftwPHXMuS"
      }
    },
    {
      "cell_type": "markdown",
      "source": [
        "### **Data day.csv dan hour.csv**"
      ],
      "metadata": {
        "id": "OLGSzhj_YYpc"
      }
    },
    {
      "cell_type": "markdown",
      "source": [
        "Memeriksa dan menstandarkan format data pada :\n",
        "\n",
        "### 1. dteday (Mengubah tipe data object menjadi tipe data datetime)"
      ],
      "metadata": {
        "id": "WG7dxx4-Y7wt"
      }
    },
    {
      "cell_type": "code",
      "source": [
        "# Data day.csv\n",
        "bike_day_df[\"dteday\"] = pd.to_datetime(bike_day_df[\"dteday\"])\n",
        "display(bike_day_df.info())"
      ],
      "metadata": {
        "id": "jVnYpprE9Evz"
      },
      "execution_count": null,
      "outputs": []
    },
    {
      "cell_type": "code",
      "source": [
        "# Data hour.csv\n",
        "bike_hour_df[\"dteday\"] = pd.to_datetime(bike_hour_df[\"dteday\"])\n",
        "display(bike_hour_df.info())"
      ],
      "metadata": {
        "id": "__Df0WvDoZBW"
      },
      "execution_count": null,
      "outputs": []
    },
    {
      "cell_type": "markdown",
      "source": [
        "Terlihat bahwa tipe data dteday pada dataset day.csv dan hour.csv sudah berubah menjadi bertipe data datetime"
      ],
      "metadata": {
        "id": "x_y3uGX8ZwxU"
      }
    },
    {
      "cell_type": "markdown",
      "source": [
        "### 2. Season, yr, mnth, weekday, holiday, dan workingday (Mengubah tipe data int menjadi nilai string yang seharusnya)\n",
        "\n",
        "1. Mengubah tipe data season yang memiliki value (1, 2, 3, 4), dimana {1:'Spring', 2:'Summer', 3:'Fall', 4:'Winter'}.\n",
        "2. Mengubah tipe data yr menjadi keterangan tahun.\n",
        "3. Mengubah tipe data mnth menjadi keterangan bulan.\n",
        "4. Mengubah tipe data weekday menjadi keterangan hari.\n",
        "5. Mengubah tipe data holiday menjadi keterangan hari libur/tidak.\n",
        "6. Mengubah tipe data workingday menjadi keterangan hari kerja/tidak."
      ],
      "metadata": {
        "id": "E9cYbYSobCM2"
      }
    },
    {
      "cell_type": "code",
      "source": [
        "# Mengubah tipe data season\n",
        "def replacing_season(data_df : pd.core.frame.DataFrame )->pd.core.frame.DataFrame :\n",
        "  \"\"\"\n",
        "   Mengubah nilai numerik pada kolom 'season' menjadi nama musim di DataFrame 'data_df'.\n",
        "\n",
        "    Fungsi ini memetakan nilai numerik dalam kolom 'season' ke nama musim (Spring, Summer, Fall, Winter)\n",
        "    menggunakan dictionary mapping. Nilai dalam kolom 'season' akan dimodifikasi secara langsung, dan\n",
        "    DataFrame yang telah diperbarui dikembalikan sebagai output.\n",
        "\n",
        "    Mapping yang digunakan:\n",
        "        1 -> Spring\n",
        "        2 -> Summer\n",
        "        3 -> Fall\n",
        "        4 -> Winter\n",
        "\n",
        "    Returns:\n",
        "        pd.core.frame.DataFrame: DataFrame 'data_df' yang telah diperbarui dengan kolom 'season'\n",
        "        berisi nama musim sebagai string.\n",
        "  \"\"\"\n",
        "  dictionary = {\n",
        "      1 : \"Spring\",\n",
        "      2 : \"Summer\",\n",
        "      3 : \"Fall\",\n",
        "      4 : \"Winter\"\n",
        "  }\n",
        "  data_df[\"season\"] = data_df[\"season\"].replace(dictionary)\n",
        "  return data_df\n",
        "\n",
        "# replacing_season()\n",
        "# display(bike_day_df)\n",
        "# display(bike_day_df[\"season\"].value_counts())\n",
        "\n"
      ],
      "metadata": {
        "id": "t8fCLxlucuKs"
      },
      "execution_count": null,
      "outputs": []
    },
    {
      "cell_type": "code",
      "source": [
        "# Mengubah tipe data season pada dataset day.csv\n",
        "replacing_season(bike_day_df)\n",
        "display(bike_day_df)\n",
        "display(bike_day_df[\"season\"].value_counts())"
      ],
      "metadata": {
        "id": "5CD6NDnlhasj"
      },
      "execution_count": null,
      "outputs": []
    },
    {
      "cell_type": "code",
      "source": [
        "# Mengubah tipe data season pada dataset hour.csv\n",
        "replacing_season(bike_hour_df)\n",
        "display(bike_hour_df)\n",
        "display(bike_hour_df[\"season\"].value_counts())"
      ],
      "metadata": {
        "id": "pkWmtRlRqNaV"
      },
      "execution_count": null,
      "outputs": []
    },
    {
      "cell_type": "markdown",
      "source": [
        "**keterangan : dapat dilihat bahwa columns season pada kedua dataset sudah diperbaiki menjadi nilai yang sebenarnya**"
      ],
      "metadata": {
        "id": "005kWQ9IrvV-"
      }
    },
    {
      "cell_type": "markdown",
      "source": [],
      "metadata": {
        "id": "7AUYL0JArowi"
      }
    },
    {
      "cell_type": "code",
      "source": [
        "# Mengubah tipe data yr, mnth ,"
      ],
      "metadata": {
        "id": "DMlELCMkr78m"
      },
      "execution_count": null,
      "outputs": []
    },
    {
      "cell_type": "markdown",
      "source": [
        "**Insight:**\n",
        "- xxx\n",
        "- xxx"
      ],
      "metadata": {
        "id": "Q_5ejIqckiSP"
      }
    },
    {
      "cell_type": "markdown",
      "metadata": {
        "id": "gp-Y6wU38DC1"
      },
      "source": [
        "## Exploratory Data Analysis (EDA)"
      ]
    },
    {
      "cell_type": "markdown",
      "metadata": {
        "id": "MW7WF2kr8DC1"
      },
      "source": [
        "### Explore ..."
      ]
    },
    {
      "cell_type": "code",
      "execution_count": null,
      "metadata": {
        "id": "e9CQCZjk8DC2"
      },
      "outputs": [],
      "source": []
    },
    {
      "cell_type": "markdown",
      "source": [
        "**Insight:**\n",
        "- xxx\n",
        "- xxx"
      ],
      "metadata": {
        "id": "th_Lzl2Fkj9O"
      }
    },
    {
      "cell_type": "markdown",
      "metadata": {
        "id": "zsyZjqak8DC2"
      },
      "source": [
        "## Visualization & Explanatory Analysis"
      ]
    },
    {
      "cell_type": "markdown",
      "metadata": {
        "id": "HZxOiQ6n8DC2"
      },
      "source": [
        "### Pertanyaan 1:"
      ]
    },
    {
      "cell_type": "code",
      "execution_count": null,
      "metadata": {
        "id": "1swJUdAD8DC2"
      },
      "outputs": [],
      "source": []
    },
    {
      "cell_type": "markdown",
      "metadata": {
        "id": "DgHI7CiU8DC2"
      },
      "source": [
        "### Pertanyaan 2:"
      ]
    },
    {
      "cell_type": "code",
      "execution_count": null,
      "metadata": {
        "id": "Go0lCsvO8DC2"
      },
      "outputs": [],
      "source": []
    },
    {
      "cell_type": "markdown",
      "source": [
        "**Insight:**\n",
        "- xxx\n",
        "- xxx"
      ],
      "metadata": {
        "id": "_0-36BDLklRg"
      }
    },
    {
      "cell_type": "markdown",
      "source": [
        "## Analisis Lanjutan (Opsional)"
      ],
      "metadata": {
        "id": "9y4VUsmcYNZ5"
      }
    },
    {
      "cell_type": "code",
      "source": [],
      "metadata": {
        "id": "iWhnzsJGYUCO"
      },
      "execution_count": null,
      "outputs": []
    },
    {
      "cell_type": "markdown",
      "metadata": {
        "id": "_WeHlCeX8DC2"
      },
      "source": [
        "## Conclusion"
      ]
    },
    {
      "cell_type": "markdown",
      "metadata": {
        "id": "ZTcyR48Y8DC2"
      },
      "source": [
        "- Conclution pertanyaan 1\n",
        "- Conclution pertanyaan 2"
      ]
    }
  ],
  "metadata": {
    "kernelspec": {
      "display_name": "Python 3",
      "language": "python",
      "name": "python3"
    },
    "language_info": {
      "name": "python",
      "version": "3.8.0 (tags/v3.8.0:fa919fd, Oct 14 2019, 19:21:23) [MSC v.1916 32 bit (Intel)]"
    },
    "orig_nbformat": 4,
    "vscode": {
      "interpreter": {
        "hash": "972b3bf27e332e87b5379f2791f6ef9dfc79c71018c370b0d7423235e20fe4d7"
      }
    },
    "colab": {
      "provenance": [],
      "include_colab_link": true
    }
  },
  "nbformat": 4,
  "nbformat_minor": 0
}